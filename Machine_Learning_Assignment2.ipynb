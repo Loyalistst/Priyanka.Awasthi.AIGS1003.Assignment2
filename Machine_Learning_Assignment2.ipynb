{
 "cells": [
  {
   "cell_type": "markdown",
   "id": "e656ec8f",
   "metadata": {},
   "source": [
    "Machine Learning - Assignment 2"
   ]
  },
  {
   "cell_type": "markdown",
   "id": "7c1e6da0",
   "metadata": {},
   "source": [
    "Question 2"
   ]
  },
  {
   "cell_type": "code",
   "execution_count": 3,
   "id": "6f015750",
   "metadata": {},
   "outputs": [],
   "source": [
    "import numpy as np\n",
    "import matplotlib.pyplot as plt\n",
    "from matplotlib.collections import LineCollection"
   ]
  },
  {
   "cell_type": "code",
   "execution_count": 6,
   "id": "8bcd70a9",
   "metadata": {},
   "outputs": [
    {
     "name": "stdout",
     "output_type": "stream",
     "text": [
      "Q Table\n",
      "[[0.00000000e+00 0.00000000e+00 0.00000000e+00 0.00000000e+00\n",
      "  1.00000000e+00 0.00000000e+00]\n",
      " [0.00000000e+00 0.00000000e+00 0.00000000e+00 1.37509924e-70\n",
      "  0.00000000e+00 1.00000000e+00]\n",
      " [0.00000000e+00 0.00000000e+00 0.00000000e+00 1.00000000e+00\n",
      "  0.00000000e+00 0.00000000e+00]\n",
      " [0.00000000e+00 8.09390633e-01 5.58650993e-02 0.00000000e+00\n",
      "  1.34744267e-01 0.00000000e+00]\n",
      " [5.65996363e-06 0.00000000e+00 0.00000000e+00 7.54237801e-50\n",
      "  0.00000000e+00 9.99994340e-01]\n",
      " [0.00000000e+00 7.51252087e-03 0.00000000e+00 0.00000000e+00\n",
      "  1.09134015e-47 9.92487479e-01]]\n",
      "Optimal Path for starting state 0\n",
      "0 -> 4 -> 5\n",
      "\n",
      "Optimal Path for starting state 1\n",
      "1 -> 5\n",
      "\n",
      "Optimal Path for starting state 2\n",
      "2 -> 3 -> 1 -> 5\n",
      "\n",
      "Optimal Path for starting state 3\n",
      "3 -> 1 -> 5\n",
      "\n",
      "Optimal Path for starting state 4\n",
      "4 -> 5\n",
      "\n",
      "Optimal Path for starting state 5\n",
      "5\n",
      "\n"
     ]
    }
   ],
   "source": [
    "r = np.array([[-1, -1, -1, -1, 0, -1],\n",
    "              [-1, -1, -1, 0, -1, 100],\n",
    "              [-1, -1, -1, 0, -1, -1],\n",
    "              [-1, 0, 0, -1, 0, -1],\n",
    "              [0, -1, -1, 0, -1, 100],\n",
    "              [-1, 0, -1, -1, 0, 100]]).astype(\"float64\")\n",
    "q = np.zeros_like(r)\n",
    "\n",
    "\n",
    "def update_q(state, next_state, action, alpha, gamma):\n",
    "    r_sa = r[state, action]\n",
    "    q_sa = q[state, action]\n",
    "    new_q = q_sa + alpha * (r_sa + gamma * max(q[next_state, :]) - q_sa)\n",
    "    q[state, action] = new_q\n",
    "    rn = q[state][q[state] > 0] / np.sum(q[state][q[state] > 0])\n",
    "    q[state][q[state] > 0] = rn\n",
    "    return r[state, action]\n",
    "\n",
    "\n",
    "def show_path():\n",
    "    for i in range(len(q)):\n",
    "        current_state = i\n",
    "        path = \"%i -> \" % current_state\n",
    "        n_steps = 0\n",
    "        while current_state != 5 and n_steps < 20:\n",
    "            next_state = np.argmax(q[current_state])\n",
    "            current_state = next_state\n",
    "            path += \"%i -> \" % current_state\n",
    "            n_steps = n_steps + 1\n",
    "        # cut off final arrow\n",
    "        path = path[:-4]\n",
    "        print(\"Optimal Path for starting state %i\" % i)\n",
    "        print(path)\n",
    "        print(\"\")\n",
    "\n",
    "gamma = 0.9\n",
    "alpha = 0.1  \n",
    "n_episodes = 5500 \n",
    "epsilon = 0.05 \n",
    "\n",
    "n_states = 6\n",
    "n_actions = 6\n",
    "\n",
    "random_state = np.random.RandomState(10)  # you may try without seed value and other seed values\n",
    "\n",
    "for e in range(int(n_episodes)):\n",
    "    states = list(range(n_states))\n",
    "    random_state.shuffle(states)\n",
    "    current_state = states[0]\n",
    "    goal = False\n",
    "    if e % int(n_episodes / 10.) == 0 and e > 0:\n",
    "        pass\n",
    "    while not goal:\n",
    "        valid_moves = r[current_state] >= 0\n",
    "        if random_state.rand() < epsilon:\n",
    "            actions = np.array(list(range(n_actions)))\n",
    "            actions = actions[valid_moves == True]\n",
    "            if type(actions) is int:\n",
    "                actions = [actions]\n",
    "            random_state.shuffle(actions)\n",
    "            action = actions[0]\n",
    "            next_state = action\n",
    "        else:\n",
    "            if np.sum(q[current_state]) > 0:\n",
    "                action = np.argmax(q[current_state])\n",
    "            else:\n",
    "               \n",
    "                actions = np.array(list(range(n_actions)))\n",
    "                actions = actions[valid_moves == True]\n",
    "                random_state.shuffle(actions)\n",
    "                action = actions[0]\n",
    "            next_state = action\n",
    "        reward = update_q(current_state, next_state, action,\n",
    "                          alpha=alpha, gamma=gamma)\n",
    "        \n",
    "        if reward > 1:\n",
    "            goal = True\n",
    "        current_state = next_state\n",
    "print(\"Q Table\")\n",
    "print(q)\n",
    "show_path()"
   ]
  },
  {
   "cell_type": "code",
   "execution_count": null,
   "id": "eec9054e",
   "metadata": {},
   "outputs": [],
   "source": []
  }
 ],
 "metadata": {
  "kernelspec": {
   "display_name": "Python 3 (ipykernel)",
   "language": "python",
   "name": "python3"
  },
  "language_info": {
   "codemirror_mode": {
    "name": "ipython",
    "version": 3
   },
   "file_extension": ".py",
   "mimetype": "text/x-python",
   "name": "python",
   "nbconvert_exporter": "python",
   "pygments_lexer": "ipython3",
   "version": "3.9.12"
  }
 },
 "nbformat": 4,
 "nbformat_minor": 5
}

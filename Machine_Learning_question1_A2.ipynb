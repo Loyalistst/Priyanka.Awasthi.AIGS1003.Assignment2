{
 "cells": [
  {
   "cell_type": "code",
   "execution_count": 1,
   "id": "2f6eec1f-3336-4991-bbcf-7d4be6f35492",
   "metadata": {},
   "outputs": [],
   "source": [
    "import numpy as np\n",
    "import matplotlib.pyplot as plt\n",
    "import seaborn as sn\n",
    "import pandas as pd\n",
    "# from utils import *\n",
    "from scipy.spatial.distance import cdist\n",
    "from sklearn.metrics import silhouette_score, accuracy_score, confusion_matrix\n",
    "\n",
    "%matplotlib inline"
   ]
  },
  {
   "cell_type": "code",
   "execution_count": 2,
   "id": "814689fe-3fe8-4a43-994d-5d8872b990e6",
   "metadata": {},
   "outputs": [],
   "source": [
    "iris_df = pd.read_csv('./Iris.csv')"
   ]
  },
  {
   "cell_type": "code",
   "execution_count": 3,
   "id": "51325d15-141a-4578-94f5-5ec6599f8299",
   "metadata": {},
   "outputs": [
    {
     "name": "stdout",
     "output_type": "stream",
     "text": [
      "<class 'pandas.core.frame.DataFrame'>\n",
      "RangeIndex: 150 entries, 0 to 149\n",
      "Data columns (total 6 columns):\n",
      " #   Column         Non-Null Count  Dtype  \n",
      "---  ------         --------------  -----  \n",
      " 0   Id             150 non-null    int64  \n",
      " 1   SepalLengthCm  150 non-null    float64\n",
      " 2   SepalWidthCm   150 non-null    float64\n",
      " 3   PetalLengthCm  150 non-null    float64\n",
      " 4   PetalWidthCm   150 non-null    float64\n",
      " 5   Species        150 non-null    object \n",
      "dtypes: float64(4), int64(1), object(1)\n",
      "memory usage: 7.2+ KB\n"
     ]
    }
   ],
   "source": [
    "iris_df.info()"
   ]
  },
  {
   "cell_type": "code",
   "execution_count": 4,
   "id": "f069a3fa-af07-4d48-8440-db4f6376a6c0",
   "metadata": {},
   "outputs": [
    {
     "data": {
      "text/html": [
       "<div>\n",
       "<style scoped>\n",
       "    .dataframe tbody tr th:only-of-type {\n",
       "        vertical-align: middle;\n",
       "    }\n",
       "\n",
       "    .dataframe tbody tr th {\n",
       "        vertical-align: top;\n",
       "    }\n",
       "\n",
       "    .dataframe thead th {\n",
       "        text-align: right;\n",
       "    }\n",
       "</style>\n",
       "<table border=\"1\" class=\"dataframe\">\n",
       "  <thead>\n",
       "    <tr style=\"text-align: right;\">\n",
       "      <th></th>\n",
       "      <th>Id</th>\n",
       "      <th>SepalLengthCm</th>\n",
       "      <th>SepalWidthCm</th>\n",
       "      <th>PetalLengthCm</th>\n",
       "      <th>PetalWidthCm</th>\n",
       "      <th>Species</th>\n",
       "    </tr>\n",
       "  </thead>\n",
       "  <tbody>\n",
       "    <tr>\n",
       "      <th>0</th>\n",
       "      <td>1</td>\n",
       "      <td>5.1</td>\n",
       "      <td>3.5</td>\n",
       "      <td>1.4</td>\n",
       "      <td>0.2</td>\n",
       "      <td>Iris-setosa</td>\n",
       "    </tr>\n",
       "    <tr>\n",
       "      <th>1</th>\n",
       "      <td>2</td>\n",
       "      <td>4.9</td>\n",
       "      <td>3.0</td>\n",
       "      <td>1.4</td>\n",
       "      <td>0.2</td>\n",
       "      <td>Iris-setosa</td>\n",
       "    </tr>\n",
       "    <tr>\n",
       "      <th>2</th>\n",
       "      <td>3</td>\n",
       "      <td>4.7</td>\n",
       "      <td>3.2</td>\n",
       "      <td>1.3</td>\n",
       "      <td>0.2</td>\n",
       "      <td>Iris-setosa</td>\n",
       "    </tr>\n",
       "  </tbody>\n",
       "</table>\n",
       "</div>"
      ],
      "text/plain": [
       "   Id  SepalLengthCm  SepalWidthCm  PetalLengthCm  PetalWidthCm      Species\n",
       "0   1            5.1           3.5            1.4           0.2  Iris-setosa\n",
       "1   2            4.9           3.0            1.4           0.2  Iris-setosa\n",
       "2   3            4.7           3.2            1.3           0.2  Iris-setosa"
      ]
     },
     "execution_count": 4,
     "metadata": {},
     "output_type": "execute_result"
    }
   ],
   "source": [
    "iris_df.head(3)"
   ]
  },
  {
   "cell_type": "code",
   "execution_count": 5,
   "id": "4f209746-47f1-4175-8e37-98b98e8be716",
   "metadata": {},
   "outputs": [],
   "source": [
    "X = iris_df[['SepalLengthCm','SepalWidthCm', 'PetalLengthCm', 'PetalWidthCm']]"
   ]
  },
  {
   "cell_type": "code",
   "execution_count": 6,
   "id": "45cc2580-545a-42e7-8bc6-1783342e0e32",
   "metadata": {},
   "outputs": [],
   "source": [
    "y_target = iris_df[['Species']]"
   ]
  },
  {
   "cell_type": "code",
   "execution_count": 7,
   "id": "d92501d7-13d5-44a9-bb4a-e2ef72ea24f7",
   "metadata": {},
   "outputs": [],
   "source": [
    "iris_species = iris_df['Species'].unique()\n",
    "\n",
    "species_dict = {}\n",
    "for idx, iris_specie in enumerate(iris_species):\n",
    "    species_dict[iris_specie] = idx"
   ]
  },
  {
   "cell_type": "code",
   "execution_count": 8,
   "id": "58855d16-2e94-48ea-a315-137421c42e0e",
   "metadata": {},
   "outputs": [
    {
     "name": "stderr",
     "output_type": "stream",
     "text": [
      "/tmp/ipykernel_1472/4221971137.py:2: SettingWithCopyWarning: \n",
      "A value is trying to be set on a copy of a slice from a DataFrame.\n",
      "Try using .loc[row_indexer,col_indexer] = value instead\n",
      "\n",
      "See the caveats in the documentation: https://pandas.pydata.org/pandas-docs/stable/user_guide/indexing.html#returning-a-view-versus-a-copy\n",
      "  y_target[y_target['Species'] == iris_specie] = species_dict[iris_specie]\n",
      "/tmp/ipykernel_1472/4221971137.py:2: SettingWithCopyWarning: \n",
      "A value is trying to be set on a copy of a slice from a DataFrame\n",
      "\n",
      "See the caveats in the documentation: https://pandas.pydata.org/pandas-docs/stable/user_guide/indexing.html#returning-a-view-versus-a-copy\n",
      "  y_target[y_target['Species'] == iris_specie] = species_dict[iris_specie]\n"
     ]
    }
   ],
   "source": [
    "for iris_specie in iris_species:\n",
    "    y_target[y_target['Species'] == iris_specie] = species_dict[iris_specie]"
   ]
  },
  {
   "cell_type": "code",
   "execution_count": 9,
   "id": "3b69fa49-dafb-429c-8feb-2fee0dacfec4",
   "metadata": {},
   "outputs": [],
   "source": [
    "y_target_species = y_target['Species'].values\n",
    "y_target_formatted = np.array(list(y_target_species), dtype=np.int64)"
   ]
  },
  {
   "cell_type": "code",
   "execution_count": 10,
   "id": "83f47f27-012e-4a5c-aafd-87e0f6eb0da3",
   "metadata": {},
   "outputs": [
    {
     "data": {
      "text/html": [
       "<div>\n",
       "<style scoped>\n",
       "    .dataframe tbody tr th:only-of-type {\n",
       "        vertical-align: middle;\n",
       "    }\n",
       "\n",
       "    .dataframe tbody tr th {\n",
       "        vertical-align: top;\n",
       "    }\n",
       "\n",
       "    .dataframe thead th {\n",
       "        text-align: right;\n",
       "    }\n",
       "</style>\n",
       "<table border=\"1\" class=\"dataframe\">\n",
       "  <thead>\n",
       "    <tr style=\"text-align: right;\">\n",
       "      <th></th>\n",
       "      <th>SepalLengthCm</th>\n",
       "      <th>SepalWidthCm</th>\n",
       "      <th>PetalLengthCm</th>\n",
       "      <th>PetalWidthCm</th>\n",
       "    </tr>\n",
       "  </thead>\n",
       "  <tbody>\n",
       "    <tr>\n",
       "      <th>0</th>\n",
       "      <td>5.1</td>\n",
       "      <td>3.5</td>\n",
       "      <td>1.4</td>\n",
       "      <td>0.2</td>\n",
       "    </tr>\n",
       "    <tr>\n",
       "      <th>1</th>\n",
       "      <td>4.9</td>\n",
       "      <td>3.0</td>\n",
       "      <td>1.4</td>\n",
       "      <td>0.2</td>\n",
       "    </tr>\n",
       "    <tr>\n",
       "      <th>2</th>\n",
       "      <td>4.7</td>\n",
       "      <td>3.2</td>\n",
       "      <td>1.3</td>\n",
       "      <td>0.2</td>\n",
       "    </tr>\n",
       "  </tbody>\n",
       "</table>\n",
       "</div>"
      ],
      "text/plain": [
       "   SepalLengthCm  SepalWidthCm  PetalLengthCm  PetalWidthCm\n",
       "0            5.1           3.5            1.4           0.2\n",
       "1            4.9           3.0            1.4           0.2\n",
       "2            4.7           3.2            1.3           0.2"
      ]
     },
     "execution_count": 10,
     "metadata": {},
     "output_type": "execute_result"
    }
   ],
   "source": [
    "X.head(3)"
   ]
  },
  {
   "cell_type": "code",
   "execution_count": 11,
   "id": "db3c175a-18cf-4c69-af51-e05fa7ae38ed",
   "metadata": {},
   "outputs": [
    {
     "data": {
      "text/plain": [
       "array([[5.1, 3.5, 1.4, 0.2],\n",
       "       [4.9, 3. , 1.4, 0.2],\n",
       "       [4.7, 3.2, 1.3, 0.2]])"
      ]
     },
     "execution_count": 11,
     "metadata": {},
     "output_type": "execute_result"
    }
   ],
   "source": [
    "X.values[:3]"
   ]
  },
  {
   "cell_type": "code",
   "execution_count": 12,
   "id": "8b196e52-46a7-46d0-81bb-cb74e3d6e34c",
   "metadata": {},
   "outputs": [],
   "source": [
    "def k_means(X, K):\n",
    "    #Keep track of history so you can see k-means in action\n",
    "    centroids_history = []\n",
    "    labels_history = []\n",
    "    rand_index = np.random.choice(X.shape[0], K)  \n",
    "    centroids = X[rand_index]\n",
    "    centroids_history.append(centroids)\n",
    "    \n",
    "    while True:\n",
    "        # Euclidean distances are calculated for each point relative to centroids, #and then np.argmin returns\n",
    "        # the index location of the minimal distance - which cluster a point    is #assigned to\n",
    "        labels = np.argmin(cdist(X, centroids), axis=1)\n",
    "        labels_history.append(labels)\n",
    "        #Take mean of points within clusters to find new centroids:\n",
    "        new_centroids = np.array([X[labels == i].mean(axis=0)\n",
    "                                for i in range(K)])\n",
    "        centroids_history.append(new_centroids)\n",
    "        \n",
    "        # If old centroids and new centroids no longer change, k-means is complete and end. Otherwise continue\n",
    "        if np.all(centroids == new_centroids):\n",
    "            break\n",
    "        centroids = new_centroids\n",
    "    \n",
    "    return centroids, labels, centroids_history, labels_history"
   ]
  },
  {
   "cell_type": "code",
   "execution_count": 13,
   "id": "6f6f6eee-0933-4209-841b-a32930401167",
   "metadata": {},
   "outputs": [],
   "source": [
    "X_mat = X.values\n",
    "K_clusters = 3"
   ]
  },
  {
   "cell_type": "code",
   "execution_count": 14,
   "id": "9834b856-10a9-43a2-897a-567e07f4d1a7",
   "metadata": {},
   "outputs": [],
   "source": [
    "centroids, labels, centroids_history, labels_history = k_means(X_mat, K_clusters)"
   ]
  },
  {
   "cell_type": "code",
   "execution_count": 15,
   "id": "ce0cebfb-0afa-401f-aaaa-b62df605447a",
   "metadata": {},
   "outputs": [],
   "source": [
    "def get_confusion_matrix(y_target_in, labels_in):\n",
    "    conf_mat = confusion_matrix(y_target_in, labels_in)\n",
    "    conf_mat_df = pd.DataFrame(conf_mat, index=iris_species, columns=iris_species)\n",
    "    \n",
    "    plt.figure(figsize=(5.5,4))\n",
    "    plt.title('Confusion Matrix for Iris Data')\n",
    "    plt.imshow(conf_mat_df, cmap='hot', interpolation='nearest')\n",
    "    plt.ylabel('True label')\n",
    "    plt.xlabel('Predicted label')\n",
    "    plt.show()\n",
    "    \n",
    "    return conf_mat_df"
   ]
  },
  {
   "cell_type": "code",
   "execution_count": 16,
   "id": "c9c61fc6-772f-4e4d-a5bf-306ed567993c",
   "metadata": {},
   "outputs": [
    {
     "name": "stdout",
     "output_type": "stream",
     "text": [
      "0.8866666666666667\n"
     ]
    }
   ],
   "source": [
    "calculated_accuracy_score = accuracy_score(y_target_formatted, labels)\n",
    "print(calculated_accuracy_score)"
   ]
  },
  {
   "cell_type": "code",
   "execution_count": 17,
   "id": "a010f007-14df-4a1f-b6c2-64351eeacfc8",
   "metadata": {},
   "outputs": [
    {
     "data": {
      "image/png": "[encoded data removed]",
      "text/plain": [
       "<Figure size 550x400 with 1 Axes>"
      ]
     },
     "metadata": {},
     "output_type": "display_data"
    },
    {
     "data": {
      "text/html": [
       "<div>\n",
       "<style scoped>\n",
       "    .dataframe tbody tr th:only-of-type {\n",
       "        vertical-align: middle;\n",
       "    }\n",
       "\n",
       "    .dataframe tbody tr th {\n",
       "        vertical-align: top;\n",
       "    }\n",
       "\n",
       "    .dataframe thead th {\n",
       "        text-align: right;\n",
       "    }\n",
       "</style>\n",
       "<table border=\"1\" class=\"dataframe\">\n",
       "  <thead>\n",
       "    <tr style=\"text-align: right;\">\n",
       "      <th></th>\n",
       "      <th>Iris-setosa</th>\n",
       "      <th>Iris-versicolor</th>\n",
       "      <th>Iris-virginica</th>\n",
       "    </tr>\n",
       "  </thead>\n",
       "  <tbody>\n",
       "    <tr>\n",
       "      <th>Iris-setosa</th>\n",
       "      <td>50</td>\n",
       "      <td>0</td>\n",
       "      <td>0</td>\n",
       "    </tr>\n",
       "    <tr>\n",
       "      <th>Iris-versicolor</th>\n",
       "      <td>0</td>\n",
       "      <td>47</td>\n",
       "      <td>3</td>\n",
       "    </tr>\n",
       "    <tr>\n",
       "      <th>Iris-virginica</th>\n",
       "      <td>0</td>\n",
       "      <td>14</td>\n",
       "      <td>36</td>\n",
       "    </tr>\n",
       "  </tbody>\n",
       "</table>\n",
       "</div>"
      ],
      "text/plain": [
       "                 Iris-setosa  Iris-versicolor  Iris-virginica\n",
       "Iris-setosa               50                0               0\n",
       "Iris-versicolor            0               47               3\n",
       "Iris-virginica             0               14              36"
      ]
     },
     "execution_count": 17,
     "metadata": {},
     "output_type": "execute_result"
    }
   ],
   "source": [
    "conf_mat_df = get_confusion_matrix(y_target_formatted, labels)\n",
    "conf_mat_df"
   ]
  },
  {
   "cell_type": "code",
   "execution_count": 18,
   "id": "04b229e5-6ae2-41a1-ac44-5282388ddc09",
   "metadata": {},
   "outputs": [],
   "source": [
    "y_target_formatted = np.array(list(y_target_species), dtype=np.int64)"
   ]
  },
  {
   "cell_type": "code",
   "execution_count": 19,
   "id": "fc393249-16bf-40f6-ac92-73eb9d82dcc6",
   "metadata": {},
   "outputs": [
    {
     "name": "stdout",
     "output_type": "stream",
     "text": [
      "Iteration acount: 0\n",
      "Iteration acount: 1\n",
      "Iteration acount: 2\n",
      "Iteration acount: 3\n",
      "Iteration acount: 4\n",
      "Iteration acount: 5\n",
      "Iteration acount: 6\n",
      "Iteration acount: 7\n",
      "Iteration acount: 8\n",
      "Iteration acount: 9\n",
      "Iteration acount: 10\n",
      "Iteration acount: 11\n",
      "Iteration acount: 12\n",
      "Iteration acount: 13\n",
      "Iteration acount: 14\n",
      "Iteration acount: 15\n",
      "Iteration acount: 16\n",
      "Iteration acount: 17\n",
      "Iteration acount: 18\n",
      "Iteration acount: 19\n",
      "Iteration acount: 20\n",
      "Iteration acount: 21\n",
      "Iteration acount: 22\n",
      "Iteration acount: 23\n",
      "Iteration acount: 24\n",
      "Iteration acount: 25\n",
      "Iteration acount: 26\n",
      "Iteration acount: 27\n",
      "Iteration acount: 28\n",
      "Iteration acount: 29\n",
      "Iteration acount: 30\n",
      "Iteration acount: 31\n",
      "Iteration acount: 32\n",
      "Iteration acount: 33\n",
      "Iteration acount: 34\n",
      "Iteration acount: 35\n",
      "Iteration acount: 36\n",
      "Iteration acount: 37\n",
      "Iteration acount: 38\n",
      "Iteration acount: 39\n",
      "Iteration acount: 40\n",
      "Iteration acount: 41\n",
      "Iteration acount: 42\n",
      "Iteration acount: 43\n",
      "Iteration acount: 44\n",
      "Iteration acount: 45\n",
      "Iteration acount: 46\n",
      "Iteration acount: 47\n",
      "Iteration acount: 48\n",
      "Iteration acount: 49\n",
      "Iteration acount: 50\n",
      "Iteration acount: 51\n",
      "Iteration acount: 52\n",
      "Iteration acount: 53\n",
      "Iteration acount: 54\n"
     ]
    }
   ],
   "source": [
    "accuracy_dict = {}\n",
    "accuracy_score_list = []\n",
    "\n",
    "for i in range(55):\n",
    "    print(f'Iteration acount: {i}')\n",
    "    centroids, labels, centroids_history, labels_history = k_means(X_mat, K_clusters)\n",
    "\n",
    "    calculated_accuracy_score = accuracy_score(y_target_formatted, labels)\n",
    "    dict_data = {\n",
    "        'accuracy_score_calculated': calculated_accuracy_score,\n",
    "        'centroids': centroids\n",
    "    }\n",
    "    accuracy_dict[i] = dict_data\n",
    "    accuracy_score_list.append(calculated_accuracy_score)"
   ]
  },
  {
   "cell_type": "code",
   "execution_count": 20,
   "id": "ea0638b7-96d3-48c5-868e-241ca6736009",
   "metadata": {},
   "outputs": [],
   "source": [
    "#accuracy_dict"
   ]
  },
  {
   "cell_type": "code",
   "execution_count": 21,
   "id": "a6c33c3c-181b-4bef-8176-53948e54f2d7",
   "metadata": {},
   "outputs": [],
   "source": [
    "max_accuracy_score = max([val['accuracy_score_calculated'] for key,val in accuracy_dict.items()])"
   ]
  },
  {
   "cell_type": "code",
   "execution_count": 22,
   "id": "52e358c8-5376-4494-8f1e-b12cf789d300",
   "metadata": {},
   "outputs": [
    {
     "data": {
      "text/plain": [
       "0.8933333333333333"
      ]
     },
     "execution_count": 22,
     "metadata": {},
     "output_type": "execute_result"
    }
   ],
   "source": [
    "max_accuracy_score"
   ]
  },
  {
   "cell_type": "code",
   "execution_count": 23,
   "id": "3755f460-2733-4d51-9fc6-bcefe849e55e",
   "metadata": {},
   "outputs": [],
   "source": [
    "k = [k for k,v in accuracy_dict.items() if v['accuracy_score_calculated'] == max_accuracy_score]"
   ]
  },
  {
   "cell_type": "code",
   "execution_count": 24,
   "id": "928b58ae-f5c4-4a54-9903-88d7bed045f1",
   "metadata": {},
   "outputs": [],
   "source": [
    "best_centroid = accuracy_dict[k[0]]['centroids']"
   ]
  },
  {
   "cell_type": "code",
   "execution_count": 25,
   "id": "96272c4f-5672-43c3-866f-868d687526dc",
   "metadata": {},
   "outputs": [
    {
     "data": {
      "text/plain": [
       "array([[5.006     , 3.418     , 1.464     , 0.244     ],\n",
       "       [5.9016129 , 2.7483871 , 4.39354839, 1.43387097],\n",
       "       [6.85      , 3.07368421, 5.74210526, 2.07105263]])"
      ]
     },
     "execution_count": 25,
     "metadata": {},
     "output_type": "execute_result"
    }
   ],
   "source": [
    "best_centroid"
   ]
  },
  {
   "cell_type": "code",
   "execution_count": 26,
   "id": "01a14fb2-f389-43ed-8c9b-b9b3ea9be562",
   "metadata": {},
   "outputs": [
    {
     "data": {
      "image/png": "[encoded data removed]",
      "text/plain": [
       "<Figure size 640x480 with 1 Axes>"
      ]
     },
     "metadata": {},
     "output_type": "display_data"
    }
   ],
   "source": [
    "x_data = range(0, len(accuracy_score_list))\n",
    "plt.scatter(x_data, accuracy_score_list, alpha=0.5)\n",
    "plt.title('Accuracy over the number of runs')\n",
    "plt.xlabel('Number of Runs')\n",
    "plt.ylabel('Accuracy')\n",
    "plt.show()"
   ]
  },
  {
   "cell_type": "code",
   "execution_count": null,
   "id": "feaa07b8-527b-4a23-a79a-39a8d1f8ad45",
   "metadata": {},
   "outputs": [],
   "source": []
  }
 ],
 "metadata": {
  "kernelspec": {
   "display_name": "Python 3 (ipykernel)",
   "language": "python",
   "name": "python3"
  },
  "language_info": {
   "codemirror_mode": {
    "name": "ipython",
    "version": 3
   },
   "file_extension": ".py",
   "mimetype": "text/x-python",
   "name": "python",
   "nbconvert_exporter": "python",
   "pygments_lexer": "ipython3",
   "version": "3.9.13"
  }
 },
 "nbformat": 4,
 "nbformat_minor": 5
}
